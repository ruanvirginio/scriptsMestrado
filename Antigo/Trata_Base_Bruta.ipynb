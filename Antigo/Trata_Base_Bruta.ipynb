{
 "cells": [
  {
   "cell_type": "code",
   "execution_count": 1,
   "metadata": {},
   "outputs": [],
   "source": [
    "import pandas as pd\n",
    "import plotly.graph_objects as go\n",
    "import numpy as np\n",
    "import json\n",
    "import os\n",
    "\n",
    "path = r'C:\\Users\\ruanv\\OneDrive\\Documentos\\Mestrado\\Projeto de Mestrado\\bases'\n",
    "\n",
    "df = pd.read_csv(os.path.join(path,'demandaTrafos.csv'), sep=';')\n",
    "df.rename(columns={\n",
    "    'Unnamed: 3': 'Valor_Pot'\n",
    "}, inplace=True)\n",
    "\n",
    "subestacoes = pd.read_excel(os.path.join(path,'subestacoes.xlsx'), usecols='A:G')\n",
    "\n",
    "subestacoes['Equipamento Medição'] = subestacoes['SUBESTACAO']+'_DJ_'+subestacoes['DISJUNTOR']\n",
    "subestacoes['TRAFO'] = subestacoes['SUBESTACAO']+\"-\"+subestacoes['TRAFO']\n",
    "subestacoes = subestacoes[['TRAFO', 'Equipamento Medição', 'POTENCIA (MVA)']]\n",
    "\n",
    "with open(os.path.join(path,'schema_trafos.json'), 'r', encoding='utf-8') as file:\n",
    "    schema = json.load(file)"
   ]
  },
  {
   "cell_type": "code",
   "execution_count": 2,
   "metadata": {},
   "outputs": [],
   "source": [
    "df['Potencia Ativa'] = df.apply(lambda row: row['Valor_Pot'] if row['Métrica'] == 'Potência Ativa' else '0', axis=1)\n",
    "df['Potencia Reativa'] = df.apply(lambda row: row['Valor_Pot'] if row['Métrica'] == 'Potência Reativa' else '0', axis=1)\n",
    "\n",
    "df = df.groupby(['Equipamento Medição', 'Data/Hora Medição'], as_index=False).agg(\n",
    "    {'Potencia Ativa': 'first', 'Potencia Reativa': 'last'}\n",
    ")\n",
    "\n",
    "df = pd.merge(df, subestacoes, on='Equipamento Medição')\n",
    "df = df.drop_duplicates()\n",
    "\n",
    "df = df[['TRAFO', 'Data/Hora Medição', 'Potencia Ativa', 'Potencia Reativa', 'POTENCIA (MVA)']]\n",
    "\n",
    "df['Potencia Reativa'] = df['Potencia Reativa'].str.replace(',', '.')\n",
    "df['Potencia Ativa'] = df['Potencia Ativa'].str.replace(',', '.')\n",
    "\n",
    "df['Potencia Reativa'] = pd.to_numeric(df['Potencia Reativa'], errors='coerce')\n",
    "df['Potencia Ativa'] = pd.to_numeric(df['Potencia Ativa'], errors='coerce')\n"
   ]
  },
  {
   "cell_type": "code",
   "execution_count": 4,
   "metadata": {},
   "outputs": [],
   "source": [
    "df.to_csv(r'C:\\Users\\ruanv\\OneDrive\\Documentos\\Mestrado\\Projeto de Mestrado\\bases\\demandaTrafos_2018-2023.csv', sep=';', encoding='latin-1', index=False)"
   ]
  }
 ],
 "metadata": {
  "kernelspec": {
   "display_name": "Python 3",
   "language": "python",
   "name": "python3"
  },
  "language_info": {
   "codemirror_mode": {
    "name": "ipython",
    "version": 3
   },
   "file_extension": ".py",
   "mimetype": "text/x-python",
   "name": "python",
   "nbconvert_exporter": "python",
   "pygments_lexer": "ipython3",
   "version": "3.11.5"
  }
 },
 "nbformat": 4,
 "nbformat_minor": 2
}
