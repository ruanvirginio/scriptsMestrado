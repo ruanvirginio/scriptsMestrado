{
 "cells": [
  {
   "cell_type": "code",
   "execution_count": 13,
   "metadata": {},
   "outputs": [],
   "source": [
    "import pandas as pd\n",
    "pd.set_option('display.max_columns', None)\n",
    "df2 = pd.read_csv(r'C:\\Users\\ruanv\\OneDrive\\Documentos\\Mestrado\\Dissertação\\scripts\\weather\\patos pb 2020-09-01 to 2023-04-30.csv')\n",
    "df1 = pd.read_csv(r'C:\\Users\\ruanv\\OneDrive\\Documentos\\Mestrado\\Dissertação\\scripts\\weather\\patos, paraíba 2018-01-01 to 2020-08-31.csv')\n",
    "df3 = pd.read_csv(r'C:\\Users\\ruanv\\OneDrive\\Documentos\\Mestrado\\Dissertação\\scripts\\weather\\patos pb 2023-05-01 to 2024-12-31.csv')\n",
    "\n",
    "df = pd.concat([df1, df2, df3])"
   ]
  },
  {
   "cell_type": "code",
   "execution_count": 16,
   "metadata": {},
   "outputs": [
    {
     "name": "stderr",
     "output_type": "stream",
     "text": [
      "C:\\Users\\ruanv\\AppData\\Local\\Temp\\ipykernel_17712\\3615464613.py:1: SettingWithCopyWarning: \n",
      "A value is trying to be set on a copy of a slice from a DataFrame.\n",
      "Try using .loc[row_indexer,col_indexer] = value instead\n",
      "\n",
      "See the caveats in the documentation: https://pandas.pydata.org/pandas-docs/stable/user_guide/indexing.html#returning-a-view-versus-a-copy\n",
      "  df['name'] = \"Patos\"\n"
     ]
    }
   ],
   "source": [
    "df['name'] = \"Patos\"\n",
    "df = df[['name', 'datetime', 'temp', 'precip', 'cloudcover', 'solarradiation']]\n",
    "df.to_csv('dadosPatos.csv', sep=';',index=False)"
   ]
  }
 ],
 "metadata": {
  "kernelspec": {
   "display_name": "Python 3",
   "language": "python",
   "name": "python3"
  },
  "language_info": {
   "codemirror_mode": {
    "name": "ipython",
    "version": 3
   },
   "file_extension": ".py",
   "mimetype": "text/x-python",
   "name": "python",
   "nbconvert_exporter": "python",
   "pygments_lexer": "ipython3",
   "version": "3.11.5"
  }
 },
 "nbformat": 4,
 "nbformat_minor": 2
}
