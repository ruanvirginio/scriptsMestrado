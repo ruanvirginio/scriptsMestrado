{
 "cells": [
  {
   "cell_type": "code",
   "execution_count": 1,
   "metadata": {},
   "outputs": [],
   "source": [
    "import pandas as pd\n",
    "pd.set_option('display.max_columns', None)\n",
    "df1 = pd.read_csv(r'C:\\Users\\ruanv\\OneDrive\\Documentos\\Mestrado\\Dissertação\\scripts\\weather\\sousa 2018-01-01 to 2018-12-31.csv')\n",
    "df2 = pd.read_csv(r'C:\\Users\\ruanv\\OneDrive\\Documentos\\Mestrado\\Dissertação\\scripts\\weather\\sousa pb 2019-01-01 to 2021-09-26.csv')\n",
    "df3 = pd.read_csv(r'C:\\Users\\ruanv\\OneDrive\\Documentos\\Mestrado\\Dissertação\\scripts\\weather\\sousa pb 2021-09-27 to 2024-06-22.csv')\n",
    "df4 = pd.read_csv(r'C:\\Users\\ruanv\\OneDrive\\Documentos\\Mestrado\\Dissertação\\scripts\\weather\\sousa pb 2024-06-23 to 2024-12-31.csv')\n",
    "\n",
    "df = pd.concat([df1, df2, df3, df4])"
   ]
  },
  {
   "cell_type": "code",
   "execution_count": 2,
   "metadata": {},
   "outputs": [],
   "source": [
    "df['name'] = \"Sousa\"\n",
    "df = df[['name', 'datetime', 'temp', 'precip', 'cloudcover', 'solarradiation']]\n",
    "df.to_csv('dadosSousa.csv', sep=';',index=False)"
   ]
  }
 ],
 "metadata": {
  "kernelspec": {
   "display_name": "base",
   "language": "python",
   "name": "python3"
  },
  "language_info": {
   "codemirror_mode": {
    "name": "ipython",
    "version": 3
   },
   "file_extension": ".py",
   "mimetype": "text/x-python",
   "name": "python",
   "nbconvert_exporter": "python",
   "pygments_lexer": "ipython3",
   "version": "3.11.4"
  }
 },
 "nbformat": 4,
 "nbformat_minor": 2
}
