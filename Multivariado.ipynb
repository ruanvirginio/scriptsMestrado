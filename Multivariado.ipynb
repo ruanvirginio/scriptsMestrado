{
  "cells": [
    {
      "cell_type": "markdown",
      "metadata": {
        "id": "view-in-github",
        "colab_type": "text"
      },
      "source": [
        "<a href=\"https://colab.research.google.com/github/ruanvirginio/scriptsMestrado/blob/main/Multivariado.ipynb\" target=\"_parent\"><img src=\"https://colab.research.google.com/assets/colab-badge.svg\" alt=\"Open In Colab\"/></a>"
      ]
    },
    {
      "cell_type": "code",
      "execution_count": null,
      "metadata": {
        "id": "oJDwuasZi9i2"
      },
      "outputs": [],
      "source": [
        "import pandas as pd\n",
        "import plotly.express as px\n",
        "import numpy as np\n",
        "import os\n",
        "import warnings\n",
        "import seaborn as sns\n",
        "import matplotlib.pyplot as plt\n",
        "\n",
        "pd.options.display.float_format = '{:.2f}'.format\n",
        "\n",
        "warnings.filterwarnings(\"ignore\")\n",
        "\n",
        "url_base = \"https://media.githubusercontent.com/media/ruanvirginio/scriptsMestrado/refs/heads/main/Medicoes_2018-2024.csv\"\n",
        "df = pd.read_csv(url_base,  sep=',', encoding='latin-1', skiprows=1)\n",
        "\n",
        "url_GD = \"https://media.githubusercontent.com/media/ruanvirginio/scriptsMestrado/refs/heads/main/EntrantesGD.csv\"\n",
        "gd = pd.read_csv(url_GD,  sep=';', encoding='latin-1')\n",
        "\n",
        "url_clientes = \"https://media.githubusercontent.com/media/ruanvirginio/scriptsMestrado/refs/heads/main/Base_Quantidade_Clientes.csv\"\n",
        "clientes = pd.read_csv(url_clientes, sep=';', encoding='latin-1')\n",
        "\n",
        "url_clima_patos = \"https://media.githubusercontent.com/media/ruanvirginio/scriptsMestrado/refs/heads/main/Clima/dadosSousa.csv\"\n",
        "clima_patos = pd.read_csv(url_clima_patos, sep=';', encoding='latin-1')"
      ]
    },
    {
      "cell_type": "markdown",
      "metadata": {
        "id": "-yj9sQgBuwwc"
      },
      "source": [
        "#### Funções para tratamento de outliers"
      ]
    },
    {
      "cell_type": "code",
      "execution_count": null,
      "metadata": {
        "id": "XX7yT8Y2i9jA"
      },
      "outputs": [],
      "source": [
        "# Função para aplicar o filtro IQR\n",
        "def filtrar_coluna_iqr(df, coluna):\n",
        "    Q1 = df[coluna].quantile(0.25)\n",
        "    Q3 = df[coluna].quantile(0.75)\n",
        "    IQR = Q3 - Q1\n",
        "\n",
        "    lower_bound = Q1 - 2 * IQR\n",
        "    upper_bound = Q3 + 3.2 * IQR\n",
        "\n",
        "    return df[(df[coluna] >= lower_bound) & (df[coluna] <= upper_bound)]\n",
        "\n",
        "# Função para aplicar o filtro baseado em Média Móvel\n",
        "def filtrar_coluna_media_movel(df, coluna, janela=20, threshold=4):\n",
        "\n",
        "    media_movel = df[coluna].rolling(window=janela, center=True).mean()\n",
        "    desvio = np.abs(df[coluna] - media_movel)\n",
        "\n",
        "    limite_superior = media_movel + threshold * desvio.std()\n",
        "    limite_inferior = media_movel - threshold * desvio.std()\n",
        "\n",
        "    return df[(df[coluna] >= limite_inferior) & (df[coluna] <= limite_superior)]\n",
        "\n",
        "# Função para aplicar o filtro baseado em Z-Score\n",
        "def filtrar_coluna_zscore(df, coluna, threshold=3):\n",
        "    media = df[coluna].mean()\n",
        "    desvio_padrao = df[coluna].std()\n",
        "    z_scores = (df[coluna] - media) / desvio_padrao\n",
        "\n",
        "    return df[np.abs(z_scores) < threshold]\n",
        "\n",
        "# Função que aplica o filtro escolhido\n",
        "def aplicar_filtro(df, coluna, metodo='iqr', janela=20, threshold=4, z_threshold=3):\n",
        "    if metodo == 'iqr':\n",
        "        return filtrar_coluna_iqr(df, coluna)\n",
        "    elif metodo == 'media_movel':\n",
        "        return filtrar_coluna_media_movel(df, coluna, janela=janela, threshold=threshold)\n",
        "    elif metodo == 'zscore':\n",
        "        return filtrar_coluna_zscore(df, coluna, threshold=z_threshold)\n",
        "    else:\n",
        "        raise ValueError(\"Método inválido! Escolha entre 'iqr', 'media_movel' ou 'zscore'.\")\n"
      ]
    },
    {
      "cell_type": "markdown",
      "metadata": {
        "id": "IT901xHku0-P"
      },
      "source": [
        "#### Tratando base de potências"
      ]
    },
    {
      "cell_type": "code",
      "execution_count": null,
      "metadata": {
        "id": "3eHfqWdsi9jC"
      },
      "outputs": [],
      "source": [
        "df['Potência Ativa'] = pd.to_numeric(df['Potência Ativa'].str.replace(',', '.'), errors='coerce')\n",
        "df['Potência Reativa'] = pd.to_numeric(df['Potência Reativa'].str.replace(',', '.'), errors='coerce')\n",
        "\n",
        "df.rename(columns={\n",
        "    'Potência Ativa': 'P',\n",
        "    'Potência Reativa': 'Q',\n",
        "    'Data/Hora Medição': 'datahora',\n",
        "    'Equipamento Medição': 'TRAFO'\n",
        "}, inplace=True)\n",
        "\n",
        "# df['datahora'] = pd.to_datetime(df['datahora'], dayfirst=True, errors='coerce')\n",
        "df['datahora'] = pd.to_datetime(df['datahora'], format='%d/%m/%Y %H:%M:%S')\n",
        "\n",
        "df['P'] = df['P'].abs()\n",
        "df['Q'] = df['Q'].abs()\n",
        "df['S'] = np.sqrt(df['P']**2 + df['Q']**2)  # Calculando a potência aparente (S), em kVA\n",
        "\n",
        "df = df[df['S'] != 0]\n",
        "\n",
        "df_filtrado = pd.DataFrame()\n",
        "\n",
        "metodo_filtro = 'iqr'\n",
        "\n",
        "for trafo in df['TRAFO'].unique():\n",
        "    df_trafo = df[df['TRAFO'] == trafo]\n",
        "\n",
        "    df_trafo_filtrado = aplicar_filtro(df_trafo, 'S', metodo=metodo_filtro, janela=20, threshold=4, z_threshold=3)\n",
        "\n",
        "    df_filtrado = pd.concat([df_filtrado, df_trafo_filtrado], ignore_index=True)\n",
        "\n",
        "df_filtrado = df_filtrado.sort_values(by=['TRAFO', 'datahora'])\n",
        "df_filtrado = df_filtrado.drop_duplicates(subset=['datahora', 'TRAFO'])\n",
        "\n",
        "df_daily = df_filtrado.groupby('TRAFO', group_keys=False).apply(lambda x: x.set_index('datahora').resample('D').max()).reset_index()\n",
        "\n",
        "df_count = df_daily.groupby('TRAFO').count()\n",
        "df_count = df_count.sort_values('datahora').tail(41).reset_index() # esses são os trafos com mais de 97,5% de linhas preenchidas\n",
        "\n",
        "lista_trafos = df_count['TRAFO'].unique().tolist()\n",
        "\n",
        "# trafos_escolhidos = lista_trafos\n",
        "\n",
        "trafos_escolhidos = ['CPX_DJ_12B1', 'LCN_DJ_12B1', 'SPE_DJ_12B2', 'ARA_DJ_12B1', 'ARR_DJ_12B1', 'BQR_DJ_12B1', 'PLT_DJ_12B1', 'PTS_DJ_12B1', 'TXR_DJ_12B1']\n",
        "\n",
        "df_filtrado = df_daily[df_daily['TRAFO'].isin(lista_trafos)]\n",
        "\n",
        "data_inicio = '2018-01-01'\n",
        "data_fim = '2024-12-31'\n",
        "datas_completas = pd.date_range(start=data_inicio, end=data_fim, freq='D')\n",
        "\n",
        "def preencher_com_7_linhas_anteriores(grupo):\n",
        "    grupo = grupo.set_index('datahora')\n",
        "    grupo = grupo.reindex(datas_completas)\n",
        "\n",
        "    grupo = grupo.fillna(grupo.shift(7))  # 'shift(7)' pega o valor de 7 linhas antes\n",
        "\n",
        "    grupo['TRAFO'] = grupo['TRAFO'].iloc[0]  # Reatribui o trafo\n",
        "    return grupo.reset_index().rename(columns={'index': 'datahora'})\n",
        "\n",
        "def preencher_com_1_linhas_anteriores(grupo):\n",
        "    grupo = grupo.set_index('datahora')\n",
        "    grupo = grupo.reindex(datas_completas)\n",
        "\n",
        "    grupo = grupo.fillna(grupo.shift(1))  # 'shift(1)' pega o valor de 1 linha antes\n",
        "\n",
        "    grupo['TRAFO'] = grupo['TRAFO'].iloc[0]\n",
        "    return grupo.reset_index().rename(columns={'index': 'datahora'})\n",
        "\n",
        "# Aplicar a função para cada transformador\n",
        "df_preenchido = df_filtrado.groupby('TRAFO', group_keys=False).apply(preencher_com_7_linhas_anteriores)\n",
        "df_preenchido = df_preenchido.groupby('TRAFO', group_keys=False).apply(preencher_com_7_linhas_anteriores)\n",
        "df_preenchido = df_preenchido.groupby('TRAFO', group_keys=False).apply(preencher_com_7_linhas_anteriores)\n",
        "df_preenchido = df_preenchido.groupby('TRAFO', group_keys=False).apply(preencher_com_7_linhas_anteriores)\n",
        "df_preenchido = df_preenchido.groupby('TRAFO', group_keys=False).apply(preencher_com_7_linhas_anteriores)\n",
        "df_preenchido = df_preenchido.groupby('TRAFO', group_keys=False).apply(preencher_com_7_linhas_anteriores)\n",
        "df_preenchido = df_preenchido.groupby('TRAFO', group_keys=False).apply(preencher_com_1_linhas_anteriores)\n"
      ]
    },
    {
      "cell_type": "code",
      "source": [
        "# df_count2 = df_daily.groupby('TRAFO').count().sort_values('datahora')\n",
        "# df_count2.tail(50)"
      ],
      "metadata": {
        "id": "W0ev9z-UnZqU"
      },
      "execution_count": null,
      "outputs": []
    },
    {
      "cell_type": "markdown",
      "metadata": {
        "id": "8IqCT2NUmt7C"
      },
      "source": [
        "#### Tratando dados de GD"
      ]
    },
    {
      "cell_type": "code",
      "execution_count": null,
      "metadata": {
        "id": "gmzBUv1wmt7C"
      },
      "outputs": [],
      "source": [
        "gd.rename(columns={\n",
        "    'Tempo': 'datahora',\n",
        "}, inplace=True)\n",
        "\n",
        "gd['datahora'] = pd.to_datetime(gd['datahora'], format='%Y-%m-%d %H:%M:%S')\n",
        "\n",
        "trafos = gd[\"TRAFO\"].unique()\n",
        "trafo_datas = pd.DataFrame([(d, t) for d in datas_completas for t in trafos], columns=[\"datahora\", \"TRAFO\"])\n",
        "gd_max = gd.groupby([\"datahora\", \"TRAFO\"])['PotenciaAcumulada'].max().reset_index()\n",
        "gd = trafo_datas.merge(gd_max, on=[\"datahora\", \"TRAFO\"], how=\"left\").fillna(0)"
      ]
    },
    {
      "cell_type": "markdown",
      "metadata": {
        "id": "Py0Z_apJmt7C"
      },
      "source": [
        "#### Tratando base de clientes"
      ]
    },
    {
      "cell_type": "code",
      "execution_count": null,
      "metadata": {
        "id": "m2h8uXJrmt7D"
      },
      "outputs": [],
      "source": [
        "clientes['DATA'] = pd.to_datetime(clientes['DATA'])\n",
        "\n",
        "# One-hot encoding\n",
        "dummies = pd.get_dummies(clientes[['CLASSE', 'DSC_GRUPO_FORNECIMENTO']].astype(str),\n",
        "                         prefix=['classe', 'fornec'])\n",
        "\n",
        "# Multiplicando as colunas pelo valor de QTD_CLIENTES, pra ser um \"peso\"\n",
        "dummies_mult = dummies.multiply(clientes['QTD_CLIENTES'], axis=0)\n",
        "\n",
        "clientes_concat = pd.concat([clientes[['TRAFO', 'DATA']], dummies_mult], axis=1)\n",
        "clientes2 = clientes_concat.groupby(['TRAFO', 'DATA']).sum().reset_index()\n",
        "clientes2.drop('classe_0', axis=1) # drop classe que n existe\n",
        "\n",
        "clientes2.rename(columns={\n",
        "    'DATA': 'datahora',\n",
        "}, inplace=True)"
      ]
    },
    {
      "cell_type": "code",
      "execution_count": null,
      "metadata": {
        "id": "YTK9i-Ehmt7D"
      },
      "outputs": [],
      "source": [
        "df = pd.merge(df_preenchido, gd, on=['datahora', 'TRAFO'], how='left')\n",
        "\n",
        "df = pd.merge(df, clientes2, on=['datahora', 'TRAFO'], how='left')\n",
        "\n",
        "data = df.fillna(0)"
      ]
    },
    {
      "cell_type": "markdown",
      "metadata": {
        "id": "1z8xHrY-i9jH"
      },
      "source": [
        "#### Algoritmo de Aprendizado de Máquina"
      ]
    },
    {
      "cell_type": "code",
      "execution_count": null,
      "metadata": {
        "id": "gw3U9O2vi9jK"
      },
      "outputs": [],
      "source": [
        "import matplotlib.pyplot as plt\n",
        "import pandas as pd\n",
        "import numpy as np\n",
        "import tensorflow as tf\n",
        "from tensorflow.keras.models import Sequential\n",
        "from tensorflow.keras.layers import LSTM, Dense\n",
        "from sklearn.svm import SVR\n",
        "from sklearn.ensemble import RandomForestRegressor, GradientBoostingRegressor\n",
        "from lightgbm import LGBMRegressor\n",
        "from xgboost import XGBRegressor\n",
        "from catboost import CatBoostRegressor\n",
        "from sklearn.metrics import mean_squared_error, mean_absolute_error, r2_score\n",
        "from sklearn.preprocessing import MinMaxScaler\n",
        "from math import sqrt\n",
        "import random\n",
        "\n",
        "# Fixando seeds para reprodutibilidade\n",
        "np.random.seed(42)\n",
        "tf.random.set_seed(42)\n",
        "random.seed(42)\n",
        "\n",
        "def plotar_resultados(df_previsoes, y_test_inverso, y_pred, trafo, modelo):\n",
        "    plt.figure(figsize=(14, 6))\n",
        "    plt.plot(df_previsoes, y_test_inverso, label='Valores Reais', color='blue')\n",
        "    plt.plot(df_previsoes, y_pred, label=f'Predictions {modelo} - Transformer {trafo}', linestyle='--', color='orange')\n",
        "    plt.xlabel('Date')\n",
        "    plt.ylabel('Apparent Power')\n",
        "    plt.title(f'Predicted x Real Comparison - Transformer {trafo} ({modelo})')\n",
        "    plt.legend()\n",
        "    plt.show()\n",
        "\n",
        "def treinar_e_prever_modelo(data, trafos_escolhidos, modelo, janela, features, epochs=20, batch_size=32):\n",
        "    resultados = []\n",
        "\n",
        "    for trafo in trafos_escolhidos:\n",
        "        df = data[data['TRAFO'] == trafo]\n",
        "        df = df[['datahora'] + features]  # Mantém somente as colunas necessárias\n",
        "        df = df.set_index(['datahora'])\n",
        "        df.sort_index(inplace=True)\n",
        "\n",
        "        # Normalização das features\n",
        "        scaler = MinMaxScaler(feature_range=(0, 1))\n",
        "        dados_normalizados = scaler.fit_transform(df)\n",
        "\n",
        "        # Separando X (features) e y (variável alvo 'S')\n",
        "        X, y = [], []\n",
        "        target_idx = features.index('S')  # Posição de 'S' nas features\n",
        "\n",
        "        for i in range(janela, len(dados_normalizados)):\n",
        "            X.append(dados_normalizados[i-janela:i, :])  # Todas as features\n",
        "            y.append(dados_normalizados[i, target_idx])  # Apenas S\n",
        "\n",
        "        X, y = np.array(X), np.array(y)\n",
        "\n",
        "        # Ajuste para LSTM\n",
        "        if modelo == 'LSTM':\n",
        "            X = np.reshape(X, (X.shape[0], X.shape[1], X.shape[2]))\n",
        "\n",
        "        # Divisão treino-teste (80/20)\n",
        "        split = int(len(X) * 0.83)\n",
        "        X_train, X_test = X[:split], X[split:]\n",
        "        y_train, y_test = y[:split], y[split:]\n",
        "\n",
        "        # Definição dos modelos\n",
        "        if modelo == 'SVR':\n",
        "            regressor = SVR(kernel='rbf', C=100, gamma=0.001, epsilon=0.01)\n",
        "        elif modelo == 'GBR':\n",
        "            regressor = GradientBoostingRegressor(n_estimators=100, random_state=42)\n",
        "        elif modelo == 'LGBM':\n",
        "            regressor = LGBMRegressor(n_estimators=100, random_state=42)\n",
        "        elif modelo == 'XGB':\n",
        "            regressor = XGBRegressor(n_estimators=100, random_state=42)\n",
        "        elif modelo == 'CatBoost':\n",
        "            regressor = CatBoostRegressor(n_estimators=100, random_state=42, verbose=0)\n",
        "        elif modelo == 'RFR':\n",
        "            regressor = RandomForestRegressor(n_estimators=100, max_depth=20, max_features='sqrt', n_jobs=-1, random_state=42)\n",
        "        elif modelo == 'LSTM':\n",
        "            regressor = Sequential()\n",
        "            regressor.add(LSTM(units=50, return_sequences=True, input_shape=(X_train.shape[1], X_train.shape[2])))\n",
        "            regressor.add(LSTM(units=50))\n",
        "            regressor.add(Dense(1))\n",
        "            regressor.compile(optimizer='adam', loss='mean_squared_error')\n",
        "            regressor.fit(X_train, y_train, epochs=epochs, batch_size=batch_size, verbose=0)\n",
        "\n",
        "        # Treinamento do modelo (exceto LSTM, que já treinou)\n",
        "        if modelo != 'LSTM':\n",
        "            regressor.fit(X_train.reshape(X_train.shape[0], -1), y_train)\n",
        "\n",
        "        # Previsão\n",
        "        y_pred_normalizado = (\n",
        "            regressor.predict(X_test.reshape(X_test.shape[0], -1))\n",
        "            if modelo != 'LSTM'\n",
        "            else regressor.predict(X_test)\n",
        "        )\n",
        "\n",
        "        # Criar um novo scaler apenas para 'S'\n",
        "        scaler_y = MinMaxScaler(feature_range=(0, 1))\n",
        "        scaler_y.fit(df[['S']])  # Ajusta apenas para a variável alvo\n",
        "\n",
        "        # Desnormalizar os valores preditos e reais\n",
        "        y_pred = scaler_y.inverse_transform(y_pred_normalizado.reshape(-1, 1)).flatten()\n",
        "        y_test_inverso = scaler_y.inverse_transform(y_test.reshape(-1, 1)).flatten()\n",
        "\n",
        "\n",
        "        # Cálculo das métricas\n",
        "        mse = mean_squared_error(y_test, y_pred_normalizado)\n",
        "        rmse = sqrt(mse)\n",
        "        rmspe = np.sqrt(np.mean(((y_test - y_pred_normalizado) / y_test) ** 2)) * 100\n",
        "        mape = np.mean(np.abs((y_test - y_pred_normalizado) / y_test)) * 100\n",
        "        mae = mean_absolute_error(y_test, y_pred_normalizado)\n",
        "        r2 = r2_score(y_test, y_pred_normalizado)\n",
        "\n",
        "        # Plotar resultados\n",
        "        df_previsoes = df.index[split + janela:]\n",
        "        plotar_resultados(df_previsoes, y_test_inverso, y_pred, trafo, modelo)\n",
        "\n",
        "        resultados.append({\n",
        "            'Trafo': trafo,\n",
        "            'Modelo': modelo,\n",
        "            'RMSE': np.round(rmse, 4),\n",
        "            'RMSPE': np.round(rmspe, 4),\n",
        "            'MAPE': np.round(mape, 4),\n",
        "            'MAE': np.round(mae, 4),\n",
        "            'R2': np.round(r2, 4)\n",
        "        })\n",
        "\n",
        "    return pd.DataFrame(resultados)\n"
      ]
    },
    {
      "cell_type": "markdown",
      "metadata": {
        "id": "MbPprOrFmt7E"
      },
      "source": [
        "#### Parâmetros pra aprendizado"
      ]
    },
    {
      "cell_type": "code",
      "execution_count": null,
      "metadata": {
        "id": "UHzVbZltmt7E"
      },
      "outputs": [],
      "source": [
        "mensal = 30\n",
        "anual = 365\n",
        "\n",
        "univariado = ['S']\n",
        "\n",
        "S_GD = ['S', 'PotenciaAcumulada']\n",
        "S_Grupo = ['S', 'fornec_ALTA', 'fornec_BAIXA']\n",
        "S_Classe = ['S', 'classe_1', 'classe_2', 'classe_3', 'classe_4', 'classe_5', 'classe_6', 'classe_7', 'classe_8',]\n",
        "\n",
        "S_GD_Grupo = ['S', 'PotenciaAcumulada', 'fornec_ALTA', 'fornec_BAIXA']\n",
        "S_GD_Classe = ['S', 'PotenciaAcumulada', 'classe_1', 'classe_2', 'classe_3', 'classe_4', 'classe_5', 'classe_6', 'classe_7', 'classe_8',]\n",
        "S_Grupo_Classe = ['S', 'fornec_ALTA', 'fornec_BAIXA', 'classe_1', 'classe_2', 'classe_3', 'classe_4', 'classe_5', 'classe_6', 'classe_7', 'classe_8',]\n",
        "\n",
        "S_GD_Grupo_Classe = ['S', 'PotenciaAcumulada', 'fornec_ALTA', 'fornec_BAIXA', 'classe_1', 'classe_2', 'classe_3', 'classe_4', 'classe_5', 'classe_6', 'classe_7', 'classe_8',]"
      ]
    },
    {
      "cell_type": "markdown",
      "metadata": {
        "id": "rvY9lawJmt7E"
      },
      "source": [
        "#### Univariado"
      ]
    },
    {
      "cell_type": "code",
      "execution_count": null,
      "metadata": {
        "id": "S_10MWs7uFA7"
      },
      "outputs": [],
      "source": [
        "resultados_svr_S = treinar_e_prever_modelo(data, trafos_escolhidos, modelo='SVR', janela=mensal, features=univariado)\n",
        "resultados_svr_S.to_csv('SVR_S.csv', sep=';')"
      ]
    },
    {
      "cell_type": "code",
      "execution_count": null,
      "metadata": {
        "id": "J_MowHuTuG_d"
      },
      "outputs": [],
      "source": [
        "resultados_rfr_S = treinar_e_prever_modelo(data, trafos_escolhidos, modelo='RFR', janela=mensal, features=univariado)\n",
        "resultados_rfr_S.to_csv('RFR_S.csv', sep=';')"
      ]
    },
    {
      "cell_type": "code",
      "execution_count": null,
      "metadata": {
        "id": "0EI3GeDxuJFW"
      },
      "outputs": [],
      "source": [
        "resultados_gbr_S = treinar_e_prever_modelo(data, trafos_escolhidos, modelo='GBR', janela=mensal, features=univariado)\n",
        "resultados_gbr_S.to_csv('GBR_S.csv', sep=';')"
      ]
    },
    {
      "cell_type": "code",
      "execution_count": null,
      "metadata": {
        "id": "6dH52zAEuMPV"
      },
      "outputs": [],
      "source": [
        "resultados_lgbm_S = treinar_e_prever_modelo(data, trafos_escolhidos, modelo='LGBM', janela=mensal, features=univariado)\n",
        "resultados_lgbm_S.to_csv('LGBM_S.csv', sep=';')"
      ]
    },
    {
      "cell_type": "code",
      "execution_count": null,
      "metadata": {
        "id": "sHQ9yX3JuPOh"
      },
      "outputs": [],
      "source": [
        "resultados_xgb_S = treinar_e_prever_modelo(data, trafos_escolhidos, modelo='XGB', janela=mensal, features=univariado)\n",
        "resultados_xgb_S.to_csv('XGB_S.csv', sep=';')"
      ]
    },
    {
      "cell_type": "code",
      "execution_count": null,
      "metadata": {
        "id": "xzyyc6TGuQF0"
      },
      "outputs": [],
      "source": [
        "resultados_catboost_S = treinar_e_prever_modelo(data, trafos_escolhidos, modelo='CatBoost', janela=mensal, features=univariado)\n",
        "resultados_catboost_S.to_csv('CATBOOST_S.csv', sep=';')"
      ]
    },
    {
      "cell_type": "code",
      "execution_count": null,
      "metadata": {
        "id": "K2cJKPVXuQ4I"
      },
      "outputs": [],
      "source": [
        "resultados_lstm_S = treinar_e_prever_modelo(data, trafos_escolhidos, modelo='LSTM', janela=mensal, features=univariado)\n",
        "resultados_lstm_S.to_csv('LSTM_S.csv', sep=';')"
      ]
    },
    {
      "cell_type": "markdown",
      "metadata": {
        "id": "0Lj95tXgmt7F"
      },
      "source": [
        "#### S + GD"
      ]
    },
    {
      "cell_type": "code",
      "execution_count": null,
      "metadata": {
        "id": "lfHiHM9qmt7F"
      },
      "outputs": [],
      "source": [
        "resultados_svr_S_GD = treinar_e_prever_modelo(data, trafos_escolhidos, modelo='SVR', janela=mensal, features=S_GD)\n",
        "resultados_svr_S_GD.to_csv('SVR_S_GD.csv', sep=';')"
      ]
    },
    {
      "cell_type": "code",
      "execution_count": null,
      "metadata": {
        "id": "Tw1Y_xFCmt7F"
      },
      "outputs": [],
      "source": [
        "resultados_rfr_S_GD = treinar_e_prever_modelo(data, trafos_escolhidos, modelo='RFR', janela=mensal, features=S_GD)\n",
        "resultados_rfr_S_GD.to_csv('RFR_S_GD.csv', sep=';')"
      ]
    },
    {
      "cell_type": "code",
      "execution_count": null,
      "metadata": {
        "id": "Wzw0Ajfbmt7F"
      },
      "outputs": [],
      "source": [
        "resultados_gbr_S_GD = treinar_e_prever_modelo(data, trafos_escolhidos, modelo='GBR', janela=mensal, features=S_GD)\n",
        "resultados_gbr_S_GD.to_csv('GBR_S_GD.csv', sep=';')"
      ]
    },
    {
      "cell_type": "code",
      "execution_count": null,
      "metadata": {
        "id": "XKkaeZ9dmt7F"
      },
      "outputs": [],
      "source": [
        "resultados_lgbm_S_GD = treinar_e_prever_modelo(data, trafos_escolhidos, modelo='LGBM', janela=mensal, features=S_GD)\n",
        "resultados_lgbm_S_GD.to_csv('LGBM_S_GD.csv', sep=';')"
      ]
    },
    {
      "cell_type": "code",
      "execution_count": null,
      "metadata": {
        "id": "e06UevJ0mt7G"
      },
      "outputs": [],
      "source": [
        "resultados_xgb_S_GD = treinar_e_prever_modelo(data, trafos_escolhidos, modelo='XGB', janela=mensal, features=S_GD)\n",
        "resultados_xgb_S_GD.to_csv('XGB_S_GD.csv', sep=';')"
      ]
    },
    {
      "cell_type": "code",
      "execution_count": null,
      "metadata": {
        "id": "Pal4oPnkmt7G"
      },
      "outputs": [],
      "source": [
        "resultados_catboost_S_GD = treinar_e_prever_modelo(data, trafos_escolhidos, modelo='CatBoost', janela=mensal, features=S_GD)\n",
        "resultados_catboost_S_GD.to_csv('CATBOOST_S_GD.csv', sep=';')"
      ]
    },
    {
      "cell_type": "code",
      "execution_count": null,
      "metadata": {
        "id": "lFjawEMUmt7G"
      },
      "outputs": [],
      "source": [
        "resultados_lstm_S_GD = treinar_e_prever_modelo(data, trafos_escolhidos, modelo='LSTM', janela=mensal, features=S_GD)\n",
        "resultados_lstm_S_GD.to_csv('LSTM_S_GD.csv', sep=';')"
      ]
    },
    {
      "cell_type": "markdown",
      "metadata": {
        "id": "7Tsespjgmt7G"
      },
      "source": [
        "#### S + Grupo"
      ]
    },
    {
      "cell_type": "code",
      "execution_count": null,
      "metadata": {
        "id": "OHr_In4mmt7G"
      },
      "outputs": [],
      "source": [
        "resultados_svr_S_Grupo = treinar_e_prever_modelo(data, trafos_escolhidos, modelo='SVR', janela=mensal, features=S_Grupo)\n",
        "resultados_svr_S_Grupo.to_csv('SVR_S_Grupo.csv', sep=';')"
      ]
    },
    {
      "cell_type": "code",
      "execution_count": null,
      "metadata": {
        "id": "_nuf98qZmt7G"
      },
      "outputs": [],
      "source": [
        "resultados_rfr_S_Grupo = treinar_e_prever_modelo(data, trafos_escolhidos, modelo='RFR', janela=mensal, features=S_Grupo)\n",
        "resultados_rfr_S_Grupo.to_csv('RFR_S_Grupo.csv', sep=';')"
      ]
    },
    {
      "cell_type": "code",
      "execution_count": null,
      "metadata": {
        "id": "UWDqMcU_mt7G"
      },
      "outputs": [],
      "source": [
        "resultados_gbr_S_Grupo = treinar_e_prever_modelo(data, trafos_escolhidos, modelo='GBR', janela=mensal, features=S_Grupo)\n",
        "resultados_gbr_S_Grupo.to_csv('GBR_S_Grupo.csv', sep=';')"
      ]
    },
    {
      "cell_type": "code",
      "execution_count": null,
      "metadata": {
        "id": "rTE1vFwFmt7G"
      },
      "outputs": [],
      "source": [
        "resultados_lgbm_S_Grupo = treinar_e_prever_modelo(data, trafos_escolhidos, modelo='LGBM', janela=mensal, features=S_Grupo)\n",
        "resultados_lgbm_S_Grupo.to_csv('LGBM_S_Grupo.csv', sep=';')"
      ]
    },
    {
      "cell_type": "code",
      "execution_count": null,
      "metadata": {
        "id": "san3Ngfjmt7H"
      },
      "outputs": [],
      "source": [
        "resultados_xgb_S_Grupo = treinar_e_prever_modelo(data, trafos_escolhidos, modelo='XGB', janela=mensal, features=S_Grupo)\n",
        "resultados_xgb_S_Grupo.to_csv('XGB_S_Grupo.csv', sep=';')"
      ]
    },
    {
      "cell_type": "code",
      "execution_count": null,
      "metadata": {
        "id": "p6zuItjomt7H"
      },
      "outputs": [],
      "source": [
        "resultados_catboost_S_Grupo = treinar_e_prever_modelo(data, trafos_escolhidos, modelo='CatBoost', janela=mensal, features=S_Grupo)\n",
        "resultados_catboost_S_Grupo.to_csv('CATBOOST_S_Grupo.csv', sep=';')"
      ]
    },
    {
      "cell_type": "code",
      "execution_count": null,
      "metadata": {
        "id": "DGlmVuG3mt7H"
      },
      "outputs": [],
      "source": [
        "resultados_lstm_S_Grupo = treinar_e_prever_modelo(data, trafos_escolhidos, modelo='LSTM', janela=mensal, features=S_Grupo)\n",
        "resultados_lstm_S_Grupo.to_csv('LSTM_S_Grupo.csv', sep=';')"
      ]
    },
    {
      "cell_type": "markdown",
      "metadata": {
        "id": "X2LENQ4Vmt7H"
      },
      "source": [
        "#### S + Classe"
      ]
    },
    {
      "cell_type": "code",
      "execution_count": null,
      "metadata": {
        "id": "sb7YhdwOmt7S"
      },
      "outputs": [],
      "source": [
        "resultados_svr_S_Classe = treinar_e_prever_modelo(data, trafos_escolhidos, modelo='SVR', janela=mensal, features=S_Classe)\n",
        "resultados_svr_S_Classe.to_csv('SVR_S_Classe.csv', sep=';')"
      ]
    },
    {
      "cell_type": "code",
      "execution_count": null,
      "metadata": {
        "id": "48uDA0xVmt7S"
      },
      "outputs": [],
      "source": [
        "resultados_rfr_S_Classe = treinar_e_prever_modelo(data, trafos_escolhidos, modelo='RFR', janela=mensal, features=S_Classe)\n",
        "resultados_rfr_S_Classe.to_csv('RFR_S_Classe.csv', sep=';')"
      ]
    },
    {
      "cell_type": "code",
      "execution_count": null,
      "metadata": {
        "id": "zI1eoGyWmt7S"
      },
      "outputs": [],
      "source": [
        "resultados_gbr_S_Classe = treinar_e_prever_modelo(data, trafos_escolhidos, modelo='GBR', janela=mensal, features=S_Classe)\n",
        "resultados_gbr_S_Classe.to_csv('GBR_S_Classe.csv', sep=';')"
      ]
    },
    {
      "cell_type": "code",
      "execution_count": null,
      "metadata": {
        "id": "OVOvjL1Cmt7T"
      },
      "outputs": [],
      "source": [
        "resultados_lgbm_S_Classe = treinar_e_prever_modelo(data, trafos_escolhidos, modelo='LGBM', janela=mensal, features=S_Classe)\n",
        "resultados_lgbm_S_Classe.to_csv('LGBM_S_Classe.csv', sep=';')"
      ]
    },
    {
      "cell_type": "code",
      "execution_count": null,
      "metadata": {
        "id": "z2pSkJnTmt7T"
      },
      "outputs": [],
      "source": [
        "resultados_xgb_S_Classe = treinar_e_prever_modelo(data, trafos_escolhidos, modelo='XGB', janela=mensal, features=S_Classe)\n",
        "resultados_xgb_S_Classe.to_csv('XGB_S_Classe.csv', sep=';')"
      ]
    },
    {
      "cell_type": "code",
      "execution_count": null,
      "metadata": {
        "id": "V-7n56plmt7T"
      },
      "outputs": [],
      "source": [
        "resultados_catboost_S_Classe = treinar_e_prever_modelo(data, trafos_escolhidos, modelo='CatBoost', janela=mensal, features=S_Classe)\n",
        "resultados_catboost_S_Classe.to_csv('CATBOOST_S_Classe.csv', sep=';')"
      ]
    },
    {
      "cell_type": "code",
      "execution_count": null,
      "metadata": {
        "id": "zwtU5Dkxmt7T"
      },
      "outputs": [],
      "source": [
        "resultados_lstm_S_Classe = treinar_e_prever_modelo(data, trafos_escolhidos, modelo='LSTM', janela=mensal, features=S_Classe)\n",
        "resultados_lstm_S_Classe.to_csv('LSTM_S_Classe.csv', sep=';')"
      ]
    },
    {
      "cell_type": "markdown",
      "metadata": {
        "id": "795vUMmHmt7T"
      },
      "source": [
        "#### S + GD + Grupo"
      ]
    },
    {
      "cell_type": "code",
      "execution_count": null,
      "metadata": {
        "id": "hxARAhztmt7T"
      },
      "outputs": [],
      "source": [
        "resultados_svr_S_GD_Grupo = treinar_e_prever_modelo(data, trafos_escolhidos, modelo='SVR', janela=mensal, features=S_GD_Grupo)\n",
        "resultados_svr_S_GD_Grupo.to_csv('SVR_S_GD_Grupo.csv', sep=';')\n",
        "\n",
        "resultados_rfr_S_GD_Grupo = treinar_e_prever_modelo(data, trafos_escolhidos, modelo='RFR', janela=mensal, features=S_GD_Grupo)\n",
        "resultados_rfr_S_GD_Grupo.to_csv('RFR_S_GD_Grupo.csv', sep=';')\n",
        "\n",
        "resultados_gbr_S_GD_Grupo = treinar_e_prever_modelo(data, trafos_escolhidos, modelo='GBR', janela=mensal, features=S_GD_Grupo)\n",
        "resultados_gbr_S_GD_Grupo.to_csv('GBR_S_GD_Grupo.csv', sep=';')\n",
        "\n",
        "resultados_lgbm_S_GD_Grupo = treinar_e_prever_modelo(data, trafos_escolhidos, modelo='LGBM', janela=mensal, features=S_GD_Grupo)\n",
        "resultados_lgbm_S_GD_Grupo.to_csv('LGBM_S_GD_Grupo.csv', sep=';')\n",
        "\n",
        "resultados_xgb_S_GD_Grupo = treinar_e_prever_modelo(data, trafos_escolhidos, modelo='XGB', janela=mensal, features=S_GD_Grupo)\n",
        "resultados_xgb_S_GD_Grupo.to_csv('XGB_S_GD_Grupo.csv', sep=';')\n",
        "\n",
        "resultados_catboost_S_GD_Grupo = treinar_e_prever_modelo(data, trafos_escolhidos, modelo='CatBoost', janela=mensal, features=S_GD_Grupo)\n",
        "resultados_catboost_S_GD_Grupo.to_csv('CATBOOST_S_GD_Grupo.csv', sep=';')\n",
        "\n",
        "resultados_lstm_S_GD_Grupo = treinar_e_prever_modelo(data, trafos_escolhidos, modelo='LSTM', janela=mensal, features=S_GD_Grupo)\n",
        "resultados_lstm_S_GD_Grupo.to_csv('LSTM_S_GD_Grupo.csv', sep=';')"
      ]
    }
  ],
  "metadata": {
    "colab": {
      "provenance": [],
      "include_colab_link": true
    },
    "kernelspec": {
      "display_name": "Python 3",
      "language": "python",
      "name": "python3"
    },
    "language_info": {
      "codemirror_mode": {
        "name": "ipython",
        "version": 3
      },
      "file_extension": ".py",
      "mimetype": "text/x-python",
      "name": "python",
      "nbconvert_exporter": "python",
      "pygments_lexer": "ipython3",
      "version": "3.11.5"
    }
  },
  "nbformat": 4,
  "nbformat_minor": 0
}