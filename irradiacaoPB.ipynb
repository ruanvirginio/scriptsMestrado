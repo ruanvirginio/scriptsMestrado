{
 "cells": [
  {
   "cell_type": "code",
   "execution_count": null,
   "metadata": {},
   "outputs": [],
   "source": [
    "import os\n",
    "import zipfile\n",
    "import geopandas as gpd\n",
    "import folium\n",
    "from folium.plugins import HeatMap\n",
    "\n",
    "# Função para descompactar arquivo KMZ e retornar o caminho do KML extraído\n",
    "def extract_kml_from_kmz(kmz_file):\n",
    "    kmz = zipfile.ZipFile(kmz_file, 'r')\n",
    "    kml_filename = None\n",
    "\n",
    "    # Procurar o arquivo .kml dentro do KMZ\n",
    "    for file_name in kmz.namelist():\n",
    "        if file_name.endswith('.kml'):\n",
    "            kml_filename = file_name\n",
    "            break\n",
    "    \n",
    "    # Extrair o arquivo KML\n",
    "    if kml_filename:\n",
    "        extracted_kml = kmz.extract(kml_filename, os.path.dirname(kmz_file))\n",
    "        return extracted_kml\n",
    "    else:\n",
    "        raise FileNotFoundError(\"Nenhum arquivo KML encontrado no KMZ\")\n",
    "\n",
    "# Caminhos para os arquivos\n",
    "kmz_file = r'C:\\Users\\ruanv\\OneDrive\\Documentos\\Mestrado\\Projeto de Mestrado\\bases\\mapas\\SE_LDAT_EPB.kmz'  # Seu arquivo KMZ\n",
    "\n",
    "path = r'C:\\Users\\ruanv\\OneDrive\\Documentos\\Mestrado\\Projeto de Mestrado\\bases\\mapas'\n",
    "\n",
    "# Carregar o shapefile da Paraíba\n",
    "paraiba = gpd.read_file(os.path.join(path, 'PB_UF_2022.shp'))\n",
    "\n",
    "# Criar um mapa centrado na Paraíba\n",
    "map_center = [-7.121, -36.724]  # Coordenadas aproximadas do centro da Paraíba\n",
    "m = folium.Map(location=map_center, zoom_start=7)\n",
    "\n",
    "# Adicionar o contorno do estado da Paraíba\n",
    "folium.GeoJson(paraiba).add_to(m)\n",
    "\n",
    "# Extrair o KML do KMZ\n",
    "kml_file = extract_kml_from_kmz(kmz_file)\n",
    "\n",
    "# Carregar o arquivo KML usando GeoPandas\n",
    "gdf_kml = gpd.read_file(kml_file)\n",
    "\n",
    "# Adicionar o KML no mapa como GeoJson\n",
    "folium.GeoJson(gdf_kml).add_to(m)\n",
    "\n",
    "# Salvar o mapa\n",
    "m.save(\"mapa_LDAT_SEs.html\")\n",
    "\n",
    "# Mostrar o mapa\n",
    "m\n"
   ]
  }
 ],
 "metadata": {
  "kernelspec": {
   "display_name": "Python 3",
   "language": "python",
   "name": "python3"
  },
  "language_info": {
   "codemirror_mode": {
    "name": "ipython",
    "version": 3
   },
   "file_extension": ".py",
   "mimetype": "text/x-python",
   "name": "python",
   "nbconvert_exporter": "python",
   "pygments_lexer": "ipython3",
   "version": "3.11.5"
  }
 },
 "nbformat": 4,
 "nbformat_minor": 2
}
