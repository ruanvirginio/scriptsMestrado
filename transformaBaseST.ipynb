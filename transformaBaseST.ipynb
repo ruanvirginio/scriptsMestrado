{
 "cells": [
  {
   "cell_type": "code",
   "execution_count": 43,
   "metadata": {},
   "outputs": [],
   "source": [
    "import pandas as pd\n",
    "import plotly.graph_objects as go\n",
    "import plotly.express as px\n",
    "import numpy as np\n",
    "import json\n",
    "import os\n",
    "\n",
    "path = r'C:\\Users\\ruanv\\OneDrive\\Documentos\\Mestrado\\Projeto de Mestrado\\bases'\n",
    "\n",
    "df = pd.read_csv(os.path.join(path,'demandaTrafos_2018-2023.csv'), sep=';', encoding='latin-1')\n",
    "\n",
    "data = df"
   ]
  },
  {
   "cell_type": "code",
   "execution_count": 44,
   "metadata": {},
   "outputs": [],
   "source": [
    "df = data"
   ]
  },
  {
   "cell_type": "code",
   "execution_count": 45,
   "metadata": {},
   "outputs": [],
   "source": [
    "df = df[(df['Potencia Ativa'] > 0) & (df['Potencia Ativa'] < 30)]\n",
    "df = df[df['Potencia Ativa'].notna()]\n",
    "\n",
    "df['Data/Hora Medição'] = pd.to_datetime(df['Data/Hora Medição'], dayfirst=True, errors='coerce')\n",
    "\n",
    "df['Dia'] = df['Data/Hora Medição'].dt.date\n",
    "\n",
    "df = df.groupby(['TRAFO', 'Dia'])[['Potencia Ativa', 'Potencia Reativa']].mean().reset_index()\n",
    "\n",
    "# Calculando a Potência Aparente e o Fator de Potência\n",
    "df['Potencia Aparente'] = np.sqrt(df['Potencia Ativa']**2 + df['Potencia Reativa']**2)\n",
    "df['Fator de Potência'] = np.where(df['Potencia Aparente'] != 0, df['Potencia Ativa'] / df['Potencia Aparente'], np.nan)"
   ]
  },
  {
   "cell_type": "code",
   "execution_count": 46,
   "metadata": {},
   "outputs": [],
   "source": [
    "df = df[['TRAFO', 'Dia', 'Potencia Aparente','Fator de Potência']]"
   ]
  },
  {
   "cell_type": "code",
   "execution_count": 47,
   "metadata": {},
   "outputs": [],
   "source": [
    "data2 = df[df['TRAFO'] == 'CTR-02T1'] # Pra filtrar um so trafo. na pratica to plotando tudo mesmo e seleciono no plot"
   ]
  },
  {
   "cell_type": "code",
   "execution_count": null,
   "metadata": {},
   "outputs": [],
   "source": [
    "df['Dia'] = pd.to_datetime(df['Dia'])\n",
    "\n",
    "# Potencia Aparente ao longo do tempo, separada por TRAFO (dois cliques marca/desmarca todos)\n",
    "fig_aparente = px.line(df, x='Dia', y='Potencia Aparente', color='TRAFO', \n",
    "                       title='Potência Aparente ao Longo do Tempo por Transformador',\n",
    "                       labels={'Potencia Aparente': 'Potência Aparente (kVA)', 'Dia': 'Data'})\n",
    "\n",
    "fig_aparente.show()\n"
   ]
  }
 ],
 "metadata": {
  "kernelspec": {
   "display_name": "Python 3",
   "language": "python",
   "name": "python3"
  },
  "language_info": {
   "codemirror_mode": {
    "name": "ipython",
    "version": 3
   },
   "file_extension": ".py",
   "mimetype": "text/x-python",
   "name": "python",
   "nbconvert_exporter": "python",
   "pygments_lexer": "ipython3",
   "version": "3.11.5"
  }
 },
 "nbformat": 4,
 "nbformat_minor": 2
}
